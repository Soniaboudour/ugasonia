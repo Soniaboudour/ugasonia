# Implémentation en Python des algorithmes de calcul et de dédoublonnage des n-grammes
from collections import Counter

def calculer_ngrams(sentences, ngramMinLength, ngramMaxLength):
    """
    Calcule les n-grammes et leurs fréquences pour un ensemble de phrases.
    :param sentences: Liste des phrases (chaque phrase est une liste de mots).
    :param ngramMinLength: Longueur minimale des n-grammes.
    :param ngramMaxLength: Longueur maximale des n-grammes.
    :return: Dictionnaire des n-grammes par longueur avec leurs fréquences.
    """
    ngram_hierarchy = {}

    for length in range(ngramMinLength, ngramMaxLength + 1):
        ngrams_comptes = Counter()

        for sentence in sentences:
            if len(sentence) >= length:
                for i in range(len(sentence) - length + 1):
                    ngram = tuple(sentence[i:i + length])
                    ngrams_comptes[ngram] += 1

        ngram_hierarchy[length] = ngrams_comptes

    return ngram_hierarchy

def dedoublonner_ngrams(ngram_hierarchy, seuil_dedoublonnage):
    """
    Dédoublonne les n-grammes en appliquant la règle de seuil.
    :param ngram_hierarchy: Dictionnaire des n-grammes par longueur avec leurs fréquences.
    :param seuil_dedoublonnage: Valeur seuil pour le dédoublonnage.
    :return: Dictionnaire des n-grammes dédoublonnés.
    """
    ngram_hierarchy_dedup = {length: Counter(ngrams) for length, ngrams in ngram_hierarchy.items()}

    for length in range(max(ngram_hierarchy.keys()), min(ngram_hierarchy.keys()), -1):
        for ngram, freq in ngram_hierarchy[length].items():
            sub_ngrams = [ngram[:-1], ngram[1:]]

            for sub_ngram in sub_ngrams:
                if sub_ngram in ngram_hierarchy_dedup[length - 1]:
                    sub_freq = ngram_hierarchy_dedup[length - 1][sub_ngram]
                    if sub_freq <= seuil_dedoublonnage * freq:
                        del ngram_hierarchy_dedup[length - 1][sub_ngram]

    return ngram_hierarchy_dedup

# Exemple de test
if __name__ == "__main__":
    sentences = [
        ["je", "me", "suis", "couché", "de", "bonne", "heure"],
        ["je", "me", "suis", "levé", "de", "bonne", "humeur"],
    ]

    ngramMinLength = 3
    ngramMaxLength = 5
    seuil_dedoublonnage = 1.3

    # Calcul des n-grammes
    ngram_hierarchy = calculer_ngrams(sentences, ngramMinLength, ngramMaxLength)

    print("N-grammes avant dédoublonnage :")
    for length, ngrams in ngram_hierarchy.items():
        print(f"{length}-grammes :", dict(ngrams))

    # Dédoublonnage des n-grammes
    ngram_hierarchy_dedup = dedoublonner_ngrams(ngram_hierarchy, seuil_dedoublonnage)

    print("\nN-grammes après dédoublonnage :")
    for length, ngrams in ngram_hierarchy_dedup.items():
        print(f"{length}-grammes :", dict(ngrams))
