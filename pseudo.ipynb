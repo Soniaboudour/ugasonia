# Pseudo-code pour le calcul des index hiérarchiques des n-grammes

# Entrées :
# - sentences : Liste des phrases (chaque phrase est une liste de mots)
# - ngramMinLength : Longueur minimale des n-grammes
# - ngramMaxLength : Longueur maximale des n-grammes

# Sortie :
# - ngram_hierarchy : Dictionnaire avec des longueurs comme clés et des n-grammes avec leurs fréquences comme valeurs

ALGORITHME calculer_ngrams(sentences, ngramMinLength, ngramMaxLength):
    INITIALISER ngram_hierarchy comme un dictionnaire vide

    POUR longueur DE ngramMinLength À ngramMaxLength :
        INITIALISER ngrams_comptes comme un dictionnaire vide

        POUR chaque phrase DANS sentences :
            SI longueur DE phrase >= longueur :
                POUR chaque i DE 0 À longueur(phrase) - longueur :
                    EXTRAIRE ngram = tuple(phrase[i:i+longueur])
                    AUGMENTER le compteur de ngrams_comptes[ngram] de 1

        AJOUTER ngrams_comptes À ngram_hierarchy[length]

    RETOURNER ngram_hierarchy

# Complexité :
# Si m est le nombre de phrases et l leur longueur moyenne, la complexité est O(m * l^2) au pire pour le calcul de tous les n-grammes.


# Pseudo-code pour le dédoublonnage des n-grammes

# Entrées :
# - ngram_hierarchy : Dictionnaire des n-grammes (par longueur) et leurs fréquences
# - seuil_dedoublonnage : Valeur seuil pour le dédoublonnage

# Sortie :
# - ngram_hierarchy_dedup : Dictionnaire avec les n-grammes dédoublonnés

ALGORITHME dedoublonner_ngrams(ngram_hierarchy, seuil_dedoublonnage):
    COPIER ngram_hierarchy DANS ngram_hierarchy_dedup

    POUR longueur DE ngramMaxLength À ngramMinLength+1 :
        POUR chaque ngram Y DE longueur longueur DANS ngram_hierarchy[length]:
            POUR chaque sous-ngram X DE longueur (longueur-1) :
                SI freq(X) <= seuil_dedoublonnage * freq(Y) :
                    SUPPRIMER X DE ngram_hierarchy_dedup[length-1]

    RETOURNER ngram_hierarchy_dedup

# Complexité :
# En supposant que nous avons k longueurs de n-grammes et n n-grammes par longueur,
# la complexité est O(k * n^2) pour le dédoublonnage (double boucle sur les n-grammes).
